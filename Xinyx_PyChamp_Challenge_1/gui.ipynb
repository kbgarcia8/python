{
 "cells": [
  {
   "cell_type": "code",
   "execution_count": 15,
   "id": "0f4f3c8a",
   "metadata": {},
   "outputs": [],
   "source": [
    "import ipywidgets as widgets\n",
    "from IPython.display import display, HTML\n",
    "from utils import label_generator\n",
    "from main import password_generator"
   ]
  },
  {
   "cell_type": "code",
   "execution_count": 16,
   "id": "a53d9577",
   "metadata": {},
   "outputs": [],
   "source": [
    "#Header/descriptions\n",
    "gui_logo_file = open(\"images/password.png\", \"rb\")\n",
    "gui_logo_read = gui_logo_file.read()\n",
    "gui_logo = widgets.Image(\n",
    "    value=gui_logo_read,\n",
    "    format='png',\n",
    "    layout=widgets.Layout(width='25%', height='95%')\n",
    ")"
   ]
  },
  {
   "cell_type": "code",
   "execution_count": 17,
   "id": "2ac5cbe4",
   "metadata": {},
   "outputs": [],
   "source": [
    "gui_title = widgets.HTML(\n",
    "    value=\"\"\"\n",
    "    <div style=\"font-family: Arial; border-radius: 2.5%; border: 3.5px solid #003A6B; background-color: #3776A1; color: whitesmoke; display: flex; align-items: center; justify-content: center; flex-direction: column;\">\n",
    "        <h2>Password Generator v1.0</h2>\n",
    "    </div>\n",
    "    \"\"\",\n",
    "    layout=widgets.Layout(\n",
    "        border='solid 3px black',\n",
    "        padding='10px',\n",
    "        margin='10px 0px',\n",
    "        width='75%',\n",
    "        height='65%'\n",
    "    )\n",
    ")"
   ]
  },
  {
   "cell_type": "code",
   "execution_count": 18,
   "id": "8ea724cd",
   "metadata": {},
   "outputs": [],
   "source": [
    "header=widgets.HBox(\n",
    "    [gui_logo,gui_title],\n",
    "    layout=widgets.Layout(\n",
    "        width='100%'\n",
    "    )\n",
    ")"
   ]
  },
  {
   "cell_type": "code",
   "execution_count": 19,
   "id": "b8849c36",
   "metadata": {},
   "outputs": [],
   "source": [
    "welcome_message = 'The program is designed to generate a password 8-16 characteds consisting of unique and random characters from a pool of characters which will be defined based on your switch preferences.'"
   ]
  },
  {
   "cell_type": "code",
   "execution_count": 20,
   "id": "5a6caffc",
   "metadata": {},
   "outputs": [],
   "source": [
    "gui_description = widgets.HTML(\n",
    "    value=f\"\"\"\n",
    "    <div style=\"font-family: Arial; border-radius: 2.5%; border: 3.5px double white; background-color: black; color: whitesmoke; display: flex; align-items: center; justify-content: center; flex-direction: column; padding: 2.5%;\">\n",
    "        <p>{welcome_message}</p>\n",
    "    </div>\n",
    "    \"\"\",\n",
    "    layout=widgets.Layout(\n",
    "        border='solid 3px black',\n",
    "        padding='10px',\n",
    "        margin='10px 0px',\n",
    "        width='100%',\n",
    "        height='20%'\n",
    "    )\n",
    ")\n",
    "#Recurring layout\n",
    "options_layout=widgets.Layout(width='100%',height='10%',display='flex',align_items='center',justify_content='flex-start',overflow='hidden')"
   ]
  },
  {
   "cell_type": "code",
   "execution_count": 21,
   "id": "0f15f329",
   "metadata": {},
   "outputs": [],
   "source": [
    "#Password length\n",
    "password_length_label = label_generator('Password Length: ', 25)\n",
    "password_length_widget = widgets.IntSlider(\n",
    "    value=16,\n",
    "    min=8,\n",
    "    max=16,\n",
    "    step=1,\n",
    "    disabled=False,\n",
    "    continuous_update=False,\n",
    "    orientation='horizontal',\n",
    "    readout=True,\n",
    "    readout_format='d',\n",
    "    layout=widgets.Layout(\n",
    "        padding='10px',\n",
    "        margin='10px 0px',\n",
    "        width='50%',\n",
    "        height='100%'\n",
    "    )\n",
    ")\n",
    "password_length=widgets.HBox(\n",
    "    [password_length_label,password_length_widget],\n",
    "    layout=options_layout\n",
    ")\n",
    "#Easy-to-read mode\n",
    "easy_to_read_checkbox_label = label_generator('Enable Easy-to-read-mode? ', 75)\n",
    "easy_to_read_checkbox_widget = widgets.Checkbox(\n",
    "    value=False,\n",
    "    disabled=False,\n",
    "    orientation='horizontal',\n",
    "    layout=widgets.Layout(\n",
    "        padding='10px',\n",
    "        margin='10px 0px',\n",
    "        width='75%',\n",
    "        height='100%'\n",
    "    )\n",
    ")\n",
    "easy_to_read_checkbox=widgets.HBox(\n",
    "    [easy_to_read_checkbox_label,easy_to_read_checkbox_widget],\n",
    "    layout=options_layout\n",
    ")\n",
    "#easy_to_read_mode\n",
    "easy_to_read_dropdown_label = label_generator('Select easy-to-read mode: ', 75)\n",
    "easy_to_read_dropdown_widget = widgets.Dropdown(\n",
    "    options={'1: special + main + digits': 1, '2: digits + main + special': 2, '3: (special + digits) + main': 3, 'main + (special + digits)': 4, '5: Randomly start or end': 5},\n",
    "    value=5,\n",
    "    disabled=True,\n",
    "    layout=widgets.Layout(\n",
    "        padding='10px',\n",
    "        margin='10px 0px',\n",
    "        width='75%',\n",
    "        height='100%',\n",
    "    )\n",
    ")\n",
    "easy_to_read_dropdown=widgets.HBox(\n",
    "    [easy_to_read_dropdown_label,easy_to_read_dropdown_widget],\n",
    "    layout=options_layout\n",
    ")"
   ]
  },
  {
   "cell_type": "code",
   "execution_count": 22,
   "id": "58e6f1bb",
   "metadata": {
    "lines_to_next_cell": 1
   },
   "outputs": [],
   "source": [
    "#Make easy_to_read_mode disabled depending on easy_to_read value\n",
    "def toggle_dropdown(change):\n",
    "    easy_to_read_dropdown_widget.disabled = not change['new']"
   ]
  },
  {
   "cell_type": "code",
   "execution_count": 23,
   "id": "1445d20e",
   "metadata": {},
   "outputs": [],
   "source": [
    "easy_to_read_checkbox_widget.observe(toggle_dropdown, names=\"value\") #every time easy_to_read_checkbox_widget changes toggle_dropdown runs"
   ]
  },
  {
   "cell_type": "code",
   "execution_count": 24,
   "id": "31874044",
   "metadata": {},
   "outputs": [
    {
     "data": {
      "text/html": [
       "\n",
       "<style>\n",
       ".custom-btn {\n",
       "    background-color: #003A6B !important;\n",
       "    border-radius: 12px !important;\n",
       "    font-weight: 800;\n",
       "    color: white !important;\n",
       "}\n",
       "</style>\n"
      ],
      "text/plain": [
       "<IPython.core.display.HTML object>"
      ]
     },
     "metadata": {},
     "output_type": "display_data"
    }
   ],
   "source": [
    "from IPython.display import display, HTML\n",
    "#Include uppercase\n",
    "include_uppercase_label = label_generator('Include uppercase char in password? ', 75)\n",
    "include_uppercase_widget = widgets.Checkbox(\n",
    "    value=False,\n",
    "    disabled=False,\n",
    "    orientation='horizontal',\n",
    "    layout=widgets.Layout(\n",
    "        padding='10px',\n",
    "        margin='10px 0px',\n",
    "        width='75%',\n",
    "        height='100%'\n",
    "    )\n",
    ")\n",
    "include_uppercase=widgets.HBox(\n",
    "    [include_uppercase_label,include_uppercase_widget],\n",
    "    layout=options_layout\n",
    ")\n",
    "#Include digits\n",
    "include_digits_label = label_generator('Include digits in password? ', 75)\n",
    "include_digits_widget = widgets.Checkbox(\n",
    "    value=False,\n",
    "    disabled=False,\n",
    "    orientation='horizontal',\n",
    "    layout=widgets.Layout(\n",
    "        padding='10px',\n",
    "        margin='10px 0px',\n",
    "        width='75%',\n",
    "        height='100%'\n",
    "    )\n",
    ")\n",
    "include_digits=widgets.HBox(\n",
    "    [include_digits_label,include_digits_widget],\n",
    "    layout=widgets.Layout(\n",
    "        width='100%',\n",
    "        height='10%',\n",
    "        display='flex',\n",
    "        align_items='center',\n",
    "        justify_content='flex-start',\n",
    "        overflow='hidden'\n",
    "    )\n",
    ")\n",
    "#Include special char\n",
    "include_special_char_label = label_generator('Include special char in password? ', 75)\n",
    "include_special_char_widget = widgets.Checkbox(\n",
    "    value=False,\n",
    "    disabled=False,\n",
    "    orientation='horizontal',\n",
    "    layout=widgets.Layout(\n",
    "        padding='10px',\n",
    "        margin='10px 0px',\n",
    "        width='75%',\n",
    "        height='100%'\n",
    "    )\n",
    ")\n",
    "include_special_char=widgets.HBox(\n",
    "    [include_special_char_label,include_special_char_widget],\n",
    "    layout=options_layout\n",
    ")\n",
    "#Submit button - to execute password generator\n",
    "submit_button = widgets.Button(\n",
    "    description=\"Generate Password\",\n",
    "    layout=widgets.Layout(\n",
    "        width=\"35%\",\n",
    "        height=\"50px\",\n",
    "    ))\n",
    "submit_button.add_class(\"custom-btn\")\n",
    "display(HTML(\"\"\"\n",
    "<style>\n",
    ".custom-btn {\n",
    "    background-color: #003A6B !important;\n",
    "    border-radius: 12px !important;\n",
    "    font-weight: 800;\n",
    "    color: white !important;\n",
    "}\n",
    "</style>\n",
    "\"\"\"))"
   ]
  },
  {
   "cell_type": "code",
   "execution_count": 25,
   "id": "fd3b60e9",
   "metadata": {
    "lines_to_next_cell": 1
   },
   "outputs": [],
   "source": [
    "from IPython.display import HTML\n",
    "# Button click handler\n",
    "output = widgets.Output(layout=widgets.Layout(\n",
    "        border='3px double white',\n",
    "        width=\"95S%\",\n",
    "        height=\"7.5%\",\n",
    "        overflow='hidden'\n",
    "))\n",
    "def on_submit_clicked(b):\n",
    "    output.clear_output()  # clear previous output\n",
    "    with output:\n",
    "        try:\n",
    "            password = password_generator(\n",
    "                length=password_length_widget.value,\n",
    "                easy_to_read=easy_to_read_checkbox_widget.value,\n",
    "                esr_mode=easy_to_read_dropdown_widget.value,\n",
    "                use_upper=include_uppercase_widget.value,\n",
    "                use_digits=include_digits_widget.value,\n",
    "                use_special=include_special_char_widget.value,\n",
    "            )\n",
    "            display(HTML(f\"\"\"\n",
    "                    <div style='background-color: black; padding-inline: 2.5%; border: 2px double white; border-radius: 2.5%;'>\n",
    "                        <p style='color: green; font-weight: bold;'>\n",
    "                            ✅ Generated password: \n",
    "                            <span style='font-weight: 700; color: white; '>{password}</span>\n",
    "                        </p>\n",
    "                    </div>\n",
    "                    \"\"\"))\n",
    "        except (ValueError, AssertionError) as e:\n",
    "            display(HTML(f\"\"\"\n",
    "                    <div style='background-color: black; padding: 1.25%; border: 2px double white; border-radius: 2.5%; font-size: 0.75rem;'>\n",
    "                        <p style='color: red; font-weight: bold;'>❌ Error: \n",
    "                            <span style='font-weight: 700; color: white;'>{e}</span>\n",
    "                        </p>\n",
    "                    </div>\n",
    "                    \"\"\"))\n",
    "            print(f\"⚠️ Error: {e}\")"
   ]
  },
  {
   "cell_type": "code",
   "execution_count": 26,
   "id": "8b6fde92",
   "metadata": {},
   "outputs": [],
   "source": [
    "submit_button.on_click(on_submit_clicked) #assign event handler to button on_click"
   ]
  },
  {
   "cell_type": "code",
   "execution_count": 27,
   "id": "2f16b7c3",
   "metadata": {},
   "outputs": [],
   "source": [
    "#Compile in 1 layout widget whole GUI\n",
    "gui=widgets.VBox(\n",
    "    [header,gui_description,password_length,easy_to_read_checkbox,easy_to_read_dropdown,include_uppercase,include_digits,include_special_char,submit_button,output],\n",
    "    layout=widgets.Layout(\n",
    "        width='650px',\n",
    "        height='900px',\n",
    "        margin='10px',\n",
    "    )\n",
    ")"
   ]
  },
  {
   "cell_type": "code",
   "execution_count": 28,
   "id": "561919e9",
   "metadata": {},
   "outputs": [
    {
     "data": {
      "application/vnd.jupyter.widget-view+json": {
       "model_id": "8f79d4ac6a444d3b9f02eb80e71e4855",
       "version_major": 2,
       "version_minor": 0
      },
      "text/plain": [
       "VBox(children=(HBox(children=(Image(value=b'\\x89PNG\\r\\n\\x1a\\n\\x00\\x00\\x00\\rIHDR\\x00\\x00\\x01\\x00\\x00\\x00\\x01\\x0…"
      ]
     },
     "metadata": {},
     "output_type": "display_data"
    }
   ],
   "source": [
    "display(gui)"
   ]
  }
 ],
 "metadata": {
  "jupytext": {
   "cell_metadata_filter": "-all",
   "main_language": "python",
   "notebook_metadata_filter": "-all"
  },
  "kernelspec": {
   "display_name": "Python 3",
   "language": "python",
   "name": "python3"
  },
  "language_info": {
   "codemirror_mode": {
    "name": "ipython",
    "version": 3
   },
   "file_extension": ".py",
   "mimetype": "text/x-python",
   "name": "python",
   "nbconvert_exporter": "python",
   "pygments_lexer": "ipython3",
   "version": "3.8.7"
  }
 },
 "nbformat": 4,
 "nbformat_minor": 5
}
