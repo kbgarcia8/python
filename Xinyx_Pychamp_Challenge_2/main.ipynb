{
 "cells": [
  {
   "cell_type": "code",
   "execution_count": 66,
   "id": "dda98ed0",
   "metadata": {},
   "outputs": [],
   "source": [
    "# --- Imports ---\n",
    "import ipywidgets as widgets\n",
    "from IPython.display import display, HTML, clear_output\n",
    "import time\n",
    "import ipyevents\n",
    "from datetime import datetime\n",
    "from utils import label_generator, random_text_generator\n",
    "from pathlib import Path"
   ]
  },
  {
   "cell_type": "code",
   "execution_count": 67,
   "id": "d2b9d05f",
   "metadata": {},
   "outputs": [],
   "source": [
    "# --- Header / Branding ---\n",
    "gui_logo_file = open(\"images/typing_test_2.png\", \"rb\")\n",
    "gui_logo_read = gui_logo_file.read()\n",
    "gui_logo = widgets.Image(\n",
    "    value=gui_logo_read,\n",
    "    format='png',\n",
    "    layout=widgets.Layout(width='25%', height='95%')\n",
    ")\n",
    "gui_title = widgets.HTML(\n",
    "    value=\"\"\"\n",
    "    <div style=\"font-family: Arial; border-radius: 2.5%; border: 3.5px solid #FE8D01; background-color: #FFB668; color: whitesmoke; display: flex; align-items: center; justify-content: center; flex-direction: column;\">\n",
    "        <h2>Typing Test v1.0</h2>\n",
    "    </div>\n",
    "    \"\"\",\n",
    "    layout=widgets.Layout(\n",
    "        padding='10px',\n",
    "        margin='10px 0px',\n",
    "        width='75%',\n",
    "        height='65%'\n",
    "    )\n",
    ")\n",
    "header=widgets.HBox(\n",
    "    [gui_logo,gui_title],\n",
    "    layout=widgets.Layout(\n",
    "        width='100%',\n",
    "        height='7.5%'\n",
    "    )\n",
    ")\n",
    "# --- Welcome Message ---\n",
    "welcome_message = \"\"\"\n",
    "This program will test your typing skills by giving you a passage to type.\n",
    "    - Once you start typing, the timer begins.\n",
    "\n",
    "When you finish, the program will calculate:\n",
    "   - ⏱️ Time Taken\n",
    "   - ⚡ Words Per Minute (WPM)\n",
    "   - 🎯 Accuracy (how close your text matches the original)\n",
    "\n",
    "✨ Bonus Features:\n",
    "- See which characters you got wrong\n",
    "- Retry the test for a better score\n",
    "- Save your results (WPM, accuracy, etc.) to a text file\n",
    "\n",
    "Good luck, and type your best!\n",
    "\"\"\"\n",
    "gui_description = widgets.HTML(\n",
    "    value=f\"\"\"\n",
    "    <div style=\"font-family: Arial; border-radius: 1.25%; border: 3.5px double white; background-color: #EBEBEB; color: black; display: flex; align-items: center; justify-content: center; flex-direction: column; padding: 2.5%;\">\n",
    "        <p style=\"white-space: pre; text-align: left; width: 100%; font-weight: 700;\">{welcome_message}</p>\n",
    "    </div>\n",
    "    \"\"\",\n",
    "    layout=widgets.Layout(\n",
    "        border='2px double black',\n",
    "        padding='10px',\n",
    "        margin='10px 0px',\n",
    "        width='100%',\n",
    "        height='25%'\n",
    "    )\n",
    ")"
   ]
  },
  {
   "cell_type": "code",
   "execution_count": 68,
   "id": "6b2081e8",
   "metadata": {
    "lines_to_next_cell": 2
   },
   "outputs": [],
   "source": [
    "# --- Tester Name ---\n",
    "tester_name_label = label_generator('Tester Name: ', 75, 100)\n",
    "tester_name_widget = widgets.Text(\n",
    "    disabled=False,\n",
    "    placeholder='Name',\n",
    "    layout=widgets.Layout(\n",
    "        padding='10px',\n",
    "        margin='10px 0px',\n",
    "        width='100%',\n",
    "        height='100%',\n",
    "    )\n",
    ")\n",
    "tester_name=widgets.HBox(\n",
    "    [tester_name_label, tester_name_widget],\n",
    "    layout=widgets.Layout(width='100%',height='3.5%',display='flex',align_items='center',justify_content='flex-start',overflow='hidden')\n",
    ")"
   ]
  },
  {
   "cell_type": "code",
   "execution_count": 69,
   "id": "2ade59ca",
   "metadata": {},
   "outputs": [],
   "source": [
    "# --- Difficulty Selection ---\n",
    "difficulty_select_dropdown_label = label_generator('Select difficulty: ', 75, 100)\n",
    "difficulty_select_dropdown_widget = widgets.Dropdown(\n",
    "    options={'Easy (short)': 'easy', 'Normal': 'normal', 'Hard (long)': 'hard'},\n",
    "    value='easy',\n",
    "    disabled=False,\n",
    "    layout=widgets.Layout(\n",
    "        padding='10px',\n",
    "        margin='10px 0px',\n",
    "        width='75%',\n",
    "        height='100%',\n",
    "    )\n",
    ")\n",
    "difficulty_select_dropdown=widgets.HBox(\n",
    "    [difficulty_select_dropdown_label, difficulty_select_dropdown_widget],\n",
    "    layout=widgets.Layout(width='100%',height='3.5%',display='flex',align_items='center',justify_content='flex-start',overflow='hidden')\n",
    ")"
   ]
  },
  {
   "cell_type": "code",
   "execution_count": 70,
   "id": "71e1d7a5",
   "metadata": {},
   "outputs": [
    {
     "data": {
      "text/html": [
       "\n",
       "<style>\n",
       ".submit-btn {\n",
       "    background-color: #FFA630 !important;\n",
       "    border-radius: 12px !important;\n",
       "    font-weight: 800;\n",
       "    color: white !important;\n",
       "}\n",
       "</style>\n"
      ],
      "text/plain": [
       "<IPython.core.display.HTML object>"
      ]
     },
     "metadata": {},
     "output_type": "display_data"
    }
   ],
   "source": [
    "# --- Generate Button ---\n",
    "from IPython.display import HTML\n",
    "generate_button = widgets.Button(\n",
    "    description=\"Generate Text\",\n",
    "    disabled=False,\n",
    "    layout=widgets.Layout(\n",
    "        width=\"35%\",\n",
    "        height=\"2.5%\",\n",
    "        margin=\"5px 0px\"\n",
    "    ))\n",
    "generate_button.add_class(\"submit-btn\")\n",
    "display(HTML(\"\"\"\n",
    "<style>\n",
    ".submit-btn {\n",
    "    background-color: #FFA630 !important;\n",
    "    border-radius: 12px !important;\n",
    "    font-weight: 800;\n",
    "    color: white !important;\n",
    "}\n",
    "</style>\n",
    "\"\"\"))\n",
    "# --- Output: Text to Type ---\n",
    "text_to_type_output = widgets.Output(layout=widgets.Layout(\n",
    "        border='3px double black',\n",
    "        width=\"95%\",\n",
    "        height=\"25%\",\n",
    "        overflow='hidden'\n",
    "))"
   ]
  },
  {
   "cell_type": "code",
   "execution_count": 71,
   "id": "59c060a9",
   "metadata": {},
   "outputs": [
    {
     "data": {
      "text/html": [
       "\n",
       "<style>\n",
       ".no-resize textarea {\n",
       "    resize: none !important;\n",
       "    font-size: 1rem;\n",
       "}\n",
       "</style>\n"
      ],
      "text/plain": [
       "<IPython.core.display.HTML object>"
      ]
     },
     "metadata": {},
     "output_type": "display_data"
    }
   ],
   "source": [
    "# --- Typing Area ---\n",
    "from IPython.display import HTML\n",
    "typing_text_area_label = label_generator('Type here: ', 75, 10)\n",
    "typing_text_area_widget = widgets.Textarea(\n",
    "    disabled=True,\n",
    "    placeholder='Start typing test',\n",
    "    layout=widgets.Layout(\n",
    "        padding='10px 0px',\n",
    "        width='95%',\n",
    "        height='100%',\n",
    "    )\n",
    ")\n",
    "display(HTML(\"\"\"\n",
    "<style>\n",
    ".no-resize textarea {\n",
    "    resize: none !important;\n",
    "    font-size: 1rem;\n",
    "}\n",
    "</style>\n",
    "\"\"\"))\n",
    "typing_text_area_widget.add_class(\"no-resize\")\n",
    "typing_text_area=widgets.VBox(\n",
    "    [typing_text_area_label, typing_text_area_widget],\n",
    "    layout=widgets.Layout(width='100%',height='20%',display='flex',align_items='flex-start',justify_content='flex-start',overflow='hidden')\n",
    ")"
   ]
  },
  {
   "cell_type": "code",
   "execution_count": 72,
   "id": "c22e7862",
   "metadata": {
    "lines_to_next_cell": 1
   },
   "outputs": [],
   "source": [
    "# --- Generate Text Handler ---\n",
    "from IPython.display import HTML\n",
    "text_to_type=None\n",
    "def generate_button_clicked(b):\n",
    "    global start_time, end_time, text_to_type\n",
    "    start_time, end_time = None, None\n",
    "    typing_text_area_widget.value = \"\"\n",
    "    typing_text_area_widget.focus()\n",
    "    typing_text_area_widget.disabled=False\n",
    "    generate_button.disabled=True\n",
    "\n",
    "    with text_to_type_output:\n",
    "        clear_output(wait=True)\n",
    "        try:\n",
    "            text_to_type = random_text_generator(level=difficulty_select_dropdown_widget.value)\n",
    "            display(HTML(f\"\"\"\n",
    "                <div style='background-color: #F1EE8E; padding-inline: 2.5%; border: 2px double white; height: 500px;'>\n",
    "                    <p style='color: black; font-weight: bold; text-decoration: underline; font-size: 1.25rem;'>⌨️ Text to type: </p>\n",
    "                    <span style='font-weight: 500; color: black; font-size: 1rem; user-select: none;'>{text_to_type}</span>\n",
    "                </div>\n",
    "            \"\"\"))\n",
    "\n",
    "        except (ValueError, AssertionError) as e:\n",
    "            display(HTML(f\"\"\"\n",
    "                <divW style='background-color: black; padding: 1.25%; border: 2px double white; border-radius: 2.5%; font-size: 0.75rem;'>\n",
    "                    <p style='color: red; font-weight: bold;'>❌ Error: \n",
    "                        <span style='font-weight: 700; color: white;'>{e}</span>\n",
    "                    </p>\n",
    "                </div>\n",
    "            \"\"\"))"
   ]
  },
  {
   "cell_type": "code",
   "execution_count": 73,
   "id": "ba9209ad",
   "metadata": {},
   "outputs": [],
   "source": [
    "generate_button.on_click(generate_button_clicked)"
   ]
  },
  {
   "cell_type": "code",
   "execution_count": 74,
   "id": "e378511b",
   "metadata": {
    "lines_to_next_cell": 1
   },
   "outputs": [],
   "source": [
    "# --- Timer Start ---\n",
    "start_time, end_time = None, None"
   ]
  },
  {
   "cell_type": "code",
   "execution_count": 75,
   "id": "c2e6fe2e",
   "metadata": {
    "lines_to_next_cell": 1
   },
   "outputs": [],
   "source": [
    "def start_timer_on_type(change):\n",
    "    global start_time\n",
    "    if start_time is None and change['new'].strip():\n",
    "        start_time = time.time()"
   ]
  },
  {
   "cell_type": "code",
   "execution_count": 76,
   "id": "64e9a93f",
   "metadata": {},
   "outputs": [],
   "source": [
    "typing_text_area_widget.observe(start_timer_on_type, names=\"value\")\n",
    "# --- Submission Instructions ---\n",
    "submit_instruction=label_generator(\"Press Ctrl+Shift+Enter to submit once done.\", 75, 3.5)"
   ]
  },
  {
   "cell_type": "code",
   "execution_count": 77,
   "id": "ae827d7c",
   "metadata": {},
   "outputs": [],
   "source": [
    "# --- Result / File Outputs ---\n",
    "submit_output = widgets.Output(layout=widgets.Layout(\n",
    "        border='3px double white',\n",
    "        width=\"95%\",\n",
    "        height=\"15%\",\n",
    "        overflow='hidden'\n",
    "))\n",
    "file_created_output = widgets.Output(layout=widgets.Layout(\n",
    "        border='3px double white',\n",
    "        width=\"95%\",\n",
    "        height=\"5%\",\n",
    "        overflow='hidden'\n",
    "))"
   ]
  },
  {
   "cell_type": "code",
   "execution_count": 78,
   "id": "96e4f06d",
   "metadata": {},
   "outputs": [
    {
     "data": {
      "text/html": [
       "\n",
       "<style>\n",
       ".retry-btn {\n",
       "    background-color: #DF705F !important;\n",
       "    border-radius: 12px !important;\n",
       "    font-weight: 800;\n",
       "    color: whitesmoke !important;\n",
       "}\n",
       "</style>\n"
      ],
      "text/plain": [
       "<IPython.core.display.HTML object>"
      ]
     },
     "metadata": {},
     "output_type": "display_data"
    }
   ],
   "source": [
    "# --- Retry Button ---\n",
    "from IPython.display import HTML\n",
    "retry_button = widgets.Button(\n",
    "    description=\"Retry Typing\",\n",
    "    disabled=True,\n",
    "    layout=widgets.Layout(\n",
    "        width=\"35%\",\n",
    "        height=\"2.5%\",\n",
    "        margin=\"5px 0px\",\n",
    "        display=\"none\"\n",
    "    ))\n",
    "retry_button.add_class(\"retry-btn\")\n",
    "display(HTML(\"\"\"\n",
    "<style>\n",
    ".retry-btn {\n",
    "    background-color: #DF705F !important;\n",
    "    border-radius: 12px !important;\n",
    "    font-weight: 800;\n",
    "    color: whitesmoke !important;\n",
    "}\n",
    "</style>\n",
    "\"\"\"))"
   ]
  },
  {
   "cell_type": "code",
   "execution_count": 79,
   "id": "995eb4ee",
   "metadata": {
    "lines_to_next_cell": 1
   },
   "outputs": [],
   "source": [
    "retry_button.on_click(generate_button_clicked)"
   ]
  },
  {
   "cell_type": "code",
   "execution_count": 80,
   "id": "b8948223",
   "metadata": {
    "lines_to_next_cell": 1
   },
   "outputs": [],
   "source": [
    "# --- Submission Logic ---\n",
    "from IPython.display import HTML\n",
    "def on_submit(b=None):\n",
    "    retry_button.disabled=False\n",
    "    retry_button.layout.display=\"block\"\n",
    "    global end_time\n",
    "    end_time = time.time()\n",
    "    user_text = typing_text_area_widget.value\n",
    "\n",
    "    if not user_text.strip():\n",
    "        display(HTML(\"<p style='color:red;'>❌ No text entered!</p>\"))\n",
    "        return\n",
    "    \n",
    "    # WPM\n",
    "    time_taken = end_time - start_time\n",
    "    words = len(user_text.split())\n",
    "    wpm = (words / time_taken) * 60\n",
    "\n",
    "    # --- Accuracy Calculation ---\n",
    "    \"\"\"\n",
    "    We calculate accuracy by comparing user_text vs text_to_type char-by-char:\n",
    "    - zip(user_text, text_to_type) pairs up characters from both strings\n",
    "    - enumerate(...) gives (index, (char_from_user, char_from_text))\n",
    "    - correct = sum(1 for a, b in zip(...) if a == b)\n",
    "    - accuracy = correct / max(len(user_text), len(text_to_type)) * 100\n",
    "    \"\"\"\n",
    "    total_char = max(len(user_text), len(text_to_type))\n",
    "    correct = sum(1 for a, b in zip(user_text, text_to_type) if a == b)\n",
    "    accuracy = (correct / total_char) * 100\n",
    "\n",
    "    # --- Wrong Characters ---\n",
    "    \"\"\"\n",
    "    We capture wrong chars as (index, typed_char, correct_char).\n",
    "    enumerate(zip(...)) lets us track position along with both chars.\n",
    "    \"\"\"\n",
    "    wrong_chars = [(i, a, b) for i, (a, b) in enumerate(zip(user_text, text_to_type)) if a != b]\n",
    "    \n",
    "    # Display results\n",
    "    with submit_output:\n",
    "        submit_output.clear_output()\n",
    "        display(HTML(f\"\"\"\n",
    "            <div style='background-color: #E69B00; padding-inline: 2.5%; border: 2px double white; border-radius: 2.5%; font-size: 1rem; color: whitesmoke; font-weight: 700;'>\n",
    "                <p>⏱ <u><b>Time Taken:</b></u> {time_taken:.2f}s</p>\n",
    "                <p>⌨️ <u><b>WPM:</b></u> {wpm:.2f}</p>\n",
    "                <p>🎯 <u><b>Accuracy:</b></u> {accuracy:.2f}%</p>\n",
    "                <p>❌ <u><b>Wrong chars:</b></u> {len(wrong_chars)}</p>\n",
    "                <p>🕰️ <u><b>Time created:</b></u> {datetime.now()}</p>\n",
    "            </div>\n",
    "        \"\"\"))\n",
    "\n",
    "    # Save to file\n",
    "    tester_name = tester_name_widget.value.strip().lower() or \"result\"\n",
    "    results_dir = Path(\"results\")\n",
    "    results_dir.mkdir(exist_ok=True)\n",
    "    file_path = results_dir / f\"{tester_name}.txt\"\n",
    "    \n",
    "    with file_path.open(\"a\") as result_file:\n",
    "        result_file.write(f\"WPM: {wpm:.2f}\\nAccuracy: {accuracy:.2f}%\\nTime: {time_taken:.2f}s\\nTotal of wrong characters: {len(wrong_chars)}\\nWrong characters (index): {wrong_chars}\\nTime Created: {datetime.now()}\")\n",
    "        with file_created_output:\n",
    "            file_created_output.clear_output()\n",
    "            display(HTML(f\"\"\"\n",
    "                <div style='background-color: black; padding-inline: 2.5%; border: 2px double white; border-radius: 2.5%;'>\n",
    "                    <p style='color: green; font-weight: bold;'>\n",
    "                        ✅ Result printed and generated at {tester_name_widget.value if tester_name_widget.value != \"\" else 'result'}.txt\n",
    "                    </p>\n",
    "                </div>\n",
    "            \"\"\"))\n",
    "    result_file.close()"
   ]
  },
  {
   "cell_type": "code",
   "execution_count": 81,
   "id": "a63844e1",
   "metadata": {
    "lines_to_next_cell": 1
   },
   "outputs": [],
   "source": [
    "# --- Keyboard Event Listener ---\n",
    "submit_event = ipyevents.Event(\n",
    "    source=typing_text_area_widget,\n",
    "    watched_events=['keyup'],\n",
    "    prevent_default_action=False\n",
    ")"
   ]
  },
  {
   "cell_type": "code",
   "execution_count": 82,
   "id": "3a294aad",
   "metadata": {
    "lines_to_next_cell": 1
   },
   "outputs": [],
   "source": [
    "def handle_submit_event(event):\n",
    "    if (\n",
    "        event.get(\"key\") == \"Enter\"\n",
    "        and event.get(\"ctrlKey\", False)\n",
    "        and event.get(\"shiftKey\", False)\n",
    "    ):\n",
    "        on_submit()"
   ]
  },
  {
   "cell_type": "code",
   "execution_count": 83,
   "id": "5f5732df",
   "metadata": {},
   "outputs": [],
   "source": [
    "submit_event.on_dom_event(handle_submit_event)"
   ]
  },
  {
   "cell_type": "code",
   "execution_count": 84,
   "id": "b5f4fb93",
   "metadata": {},
   "outputs": [],
   "source": [
    "# --- GUI Assembly ---\n",
    "gui=widgets.VBox(\n",
    "    [\n",
    "        header,\n",
    "        gui_description,\n",
    "        tester_name,\n",
    "        difficulty_select_dropdown,\n",
    "        generate_button,\n",
    "        text_to_type_output,\n",
    "        typing_text_area,\n",
    "        submit_instruction,\n",
    "        submit_output,\n",
    "        file_created_output,\n",
    "        retry_button\n",
    "    ],\n",
    "    layout=widgets.Layout(\n",
    "        width='650px',\n",
    "        height='2250px',\n",
    "        margin='10px',\n",
    "        padding='10px',\n",
    "        border='5px double black'\n",
    "    )\n",
    ")"
   ]
  },
  {
   "cell_type": "code",
   "execution_count": 85,
   "id": "41880c2d",
   "metadata": {},
   "outputs": [
    {
     "data": {
      "application/vnd.jupyter.widget-view+json": {
       "model_id": "9e71cf25e2a2447fb9156450d1b886d1",
       "version_major": 2,
       "version_minor": 0
      },
      "text/plain": [
       "VBox(children=(HBox(children=(Image(value=b'\\x89PNG\\r\\n\\x1a\\n\\x00\\x00\\x00\\rIHDR\\x00\\x00\\x02d\\x00\\x00\\x01\\x98\\x…"
      ]
     },
     "metadata": {},
     "output_type": "display_data"
    }
   ],
   "source": [
    "display(gui)"
   ]
  }
 ],
 "metadata": {
  "jupytext": {
   "cell_metadata_filter": "-all",
   "formats": "ipynb,py",
   "main_language": "python"
  },
  "language_info": {
   "codemirror_mode": {
    "name": "ipython",
    "version": 3
   },
   "file_extension": ".py",
   "mimetype": "text/x-python",
   "name": "python",
   "nbconvert_exporter": "python",
   "pygments_lexer": "ipython3",
   "version": "3.8.7"
  }
 },
 "nbformat": 4,
 "nbformat_minor": 5
}
