{
  "metadata": {
    "kernelspec": {
      "name": "python",
      "display_name": "Python (Pyodide)",
      "language": "python"
    },
    "language_info": {
      "codemirror_mode": {
        "name": "python",
        "version": 3
      },
      "file_extension": ".py",
      "mimetype": "text/x-python",
      "name": "python",
      "nbconvert_exporter": "python",
      "pygments_lexer": "ipython3",
      "version": "3.8"
    }
  },
  "nbformat_minor": 4,
  "nbformat": 4,
  "cells": [
    {
      "cell_type": "markdown",
      "source": "___\n\n<a href='https://www.udemy.com/user/joseportilla/'><img src='../Pierian_Data_Logo.png'/></a>\n___\n<center><em>Content Copyright by Pierian Data</em></center>",
      "metadata": {}
    },
    {
      "cell_type": "markdown",
      "source": "# Guessing Game Challenge\n\nLet's use `while` loops to create a guessing game.\n\nThe Challenge:\n\nWrite a program that picks a random integer from 1 to 100, and has players guess the number. The rules are:\n\n1. If a player's guess is less than 1 or greater than 100, say \"OUT OF BOUNDS\"\n2. On a player's first turn, if their guess is\n * within 10 of the number, return \"WARM!\"\n * further than 10 away from the number, return \"COLD!\"\n3. On all subsequent turns, if a guess is \n * closer to the number than the previous guess return \"WARMER!\"\n * farther from the number than the previous guess, return \"COLDER!\"\n4. When the player's guess equals the number, tell them they've guessed correctly *and* how many guesses it took!\n\nYou can try this from scratch, or follow the steps outlined below. A separate Solution notebook has been provided. Good luck!\n",
      "metadata": {}
    },
    {
      "cell_type": "markdown",
      "source": "#### First, pick a random integer from 1 to 100 using the random module and assign it to a variable\n\nNote: `random.randint(a,b)` returns a random integer in range `[a, b]`, including both end points.",
      "metadata": {}
    },
    {
      "cell_type": "code",
      "source": "import random\n\nnumber_to_guess = random.randint(1,100)",
      "metadata": {
        "collapsed": true,
        "jupyter": {
          "outputs_hidden": true
        }
      },
      "outputs": [],
      "execution_count": null
    },
    {
      "cell_type": "markdown",
      "source": "#### Next, print an introduction to the game and explain the rules",
      "metadata": {}
    },
    {
      "cell_type": "code",
      "source": "welcome_message = \"\"\"\nWelcome to Guessing Game.\nThe program is designed to randomly pick a number from 1 to 100.\n\nTo play, input a number from 1-100\n\nGiving a number less than 1 or greater than 100 will result in OUT OF BOUNDS\n\nIf your number is within 10 of the number you will get WARM else COLD\nAs you get closer in guessing the number it gets WARMER else COLDER unitl you get it\n\nGood luck!\n\"\"\"\nprint(welcome_message)",
      "metadata": {
        "collapsed": true,
        "jupyter": {
          "outputs_hidden": true
        }
      },
      "outputs": [],
      "execution_count": null
    },
    {
      "cell_type": "markdown",
      "source": "#### Create a list to store guesses\n\nHint: zero is a good placeholder value. It's useful because it evaluates to \"False\"",
      "metadata": {}
    },
    {
      "cell_type": "code",
      "source": "guesses = []",
      "metadata": {
        "collapsed": true,
        "jupyter": {
          "outputs_hidden": true
        }
      },
      "outputs": [],
      "execution_count": null
    },
    {
      "cell_type": "markdown",
      "source": "#### Write a `while` loop that asks for a valid guess. Test it a few times to make sure it works.",
      "metadata": {}
    },
    {
      "cell_type": "code",
      "source": "import re\n\nwhile True:\n    input_number = input('Guess the number: ')\n    number_match = re.search(r'[0-9]', input_number)\n\n    if number_match:\n        number = int(input_number)\n        if(number < 1 or number > 100):\n            print(\"OUT OF BOUNDS\")\n            continue\n    else:\n        print(\"Please provide a number!!!\")",
      "metadata": {
        "trusted": true
      },
      "outputs": [
        {
          "ename": "<class 'TypeError'>",
          "evalue": "expected string or bytes-like object, got 'PyodideFuture'",
          "traceback": [
            "\u001b[0;31m---------------------------------------------------------------------------\u001b[0m",
            "\u001b[0;31mTypeError\u001b[0m                                 Traceback (most recent call last)",
            "Cell \u001b[0;32mIn[1], line 5\u001b[0m\n\u001b[1;32m      3\u001b[0m \u001b[38;5;28;01mwhile\u001b[39;00m \u001b[38;5;28;01mTrue\u001b[39;00m:\n\u001b[1;32m      4\u001b[0m     input_number \u001b[38;5;241m=\u001b[39m \u001b[38;5;28minput\u001b[39m(\u001b[38;5;124m'\u001b[39m\u001b[38;5;124mGuess the number: \u001b[39m\u001b[38;5;124m'\u001b[39m)\n\u001b[0;32m----> 5\u001b[0m     number_match \u001b[38;5;241m=\u001b[39m \u001b[43mre\u001b[49m\u001b[38;5;241;43m.\u001b[39;49m\u001b[43msearch\u001b[49m\u001b[43m(\u001b[49m\u001b[38;5;124;43mr\u001b[39;49m\u001b[38;5;124;43m'\u001b[39;49m\u001b[38;5;124;43m[0-9]\u001b[39;49m\u001b[38;5;124;43m'\u001b[39;49m\u001b[43m,\u001b[49m\u001b[43m \u001b[49m\u001b[43minput_number\u001b[49m\u001b[43m)\u001b[49m\n\u001b[1;32m      7\u001b[0m     \u001b[38;5;28;01mif\u001b[39;00m number_match:\n\u001b[1;32m      8\u001b[0m         number \u001b[38;5;241m=\u001b[39m \u001b[38;5;28mint\u001b[39m(input_number)\n",
            "File \u001b[0;32m/lib/python312.zip/re/__init__.py:177\u001b[0m, in \u001b[0;36msearch\u001b[0;34m(pattern, string, flags)\u001b[0m\n\u001b[1;32m    174\u001b[0m \u001b[38;5;28;01mdef\u001b[39;00m \u001b[38;5;21msearch\u001b[39m(pattern, string, flags\u001b[38;5;241m=\u001b[39m\u001b[38;5;241m0\u001b[39m):\n\u001b[1;32m    175\u001b[0m \u001b[38;5;250m    \u001b[39m\u001b[38;5;124;03m\"\"\"Scan through string looking for a match to the pattern, returning\u001b[39;00m\n\u001b[1;32m    176\u001b[0m \u001b[38;5;124;03m    a Match object, or None if no match was found.\"\"\"\u001b[39;00m\n\u001b[0;32m--> 177\u001b[0m     \u001b[38;5;28;01mreturn\u001b[39;00m \u001b[43m_compile\u001b[49m\u001b[43m(\u001b[49m\u001b[43mpattern\u001b[49m\u001b[43m,\u001b[49m\u001b[43m \u001b[49m\u001b[43mflags\u001b[49m\u001b[43m)\u001b[49m\u001b[38;5;241;43m.\u001b[39;49m\u001b[43msearch\u001b[49m\u001b[43m(\u001b[49m\u001b[43mstring\u001b[49m\u001b[43m)\u001b[49m\n",
            "\u001b[0;31mTypeError\u001b[0m: expected string or bytes-like object, got 'PyodideFuture'"
          ],
          "output_type": "error"
        },
        {
          "output_type": "stream",
          "name": "stdin",
          "text": "Guess the number:  1\n"
        }
      ],
      "execution_count": 1
    },
    {
      "cell_type": "markdown",
      "source": "#### Write a `while` loop that compares the player's guess to our number. If the player guesses correctly, break from the loop. Otherwise, tell the player if they're warmer or colder, and continue asking for guesses.\n\nSome hints:\n* it may help to sketch out all possible combinations on paper first!\n* you can use the `abs()` function to find the positive difference between two numbers\n* if you append all new guesses to the list, then the previous guess is given as `guesses[-2]`",
      "metadata": {}
    },
    {
      "cell_type": "code",
      "source": "while True:\n    input_number = input('Guess the number: ')\n    number_match = re.search(r'[0-9]', input_number)\n\n    if number_match:\n        number = int(input_number)\n        if(number < 1 or number > 100):\n            print(\"OUT OF BOUNDS\")\n            continue\n        else:\n            if(number == number_to_guess):\n                print(f\"Congratulations, you've guessed the number! It's {number_to_guess}. You took {len(guesses)} guesses!\")\n                play_again = input(\"Would you like to play again? Y/N: \")\n                play_again_match = re.search(r'[yYnN]', play_again)\n                if not play_again_match:\n                    print(\"Error: Invalid option terminating program\")\n                    break\n                elif play_again_match and (play_again == 'Y' or play_again == 'y'):\n                    number_to_guess = random.randint(1, 100)\n                    guesses = []\n                    print(\"\\nNew game started!\\n\")\n                    continue\n                elif play_again_match and (play_again == 'N' or play_again == 'n'):\n                    print(\"Thanks for playing see you again!\")\n                    break\n            elif(len(guesses) == 0):\n                guesses.append(number)\n                if abs(number-number_to_guess) <= 10:                \n                    print('WARM!')\n                elif abs(number-number_to_guess) > 10:\n                    print('COLD!')\n            elif(len(guesses) > 0):\n                guesses.append(number)\n                if abs(number - number_to_guess) < abs(guesses[-2] - number_to_guess):\n                    print('WARMER!')\n                else:\n                    print('COLDER!')\n    else:\n        print(\"Please provide a number!!!\")",
      "metadata": {
        "collapsed": true,
        "jupyter": {
          "outputs_hidden": true
        }
      },
      "outputs": [],
      "execution_count": null
    },
    {
      "cell_type": "markdown",
      "source": "That's it! You've just programmed your first game!\n\nIn the next section we'll learn how to turn some of these repetitive actions into *functions* that can be called whenever we need them.",
      "metadata": {}
    },
    {
      "cell_type": "markdown",
      "source": "### Good Job!",
      "metadata": {}
    }
  ]
}